{
 "cells": [
  {
   "cell_type": "code",
   "execution_count": 1,
   "id": "1400580f",
   "metadata": {},
   "outputs": [],
   "source": [
    "import tensorflow as tf\n",
    "import pandas as pd\n",
    "import requests\n",
    "import json\n",
    "import base64\n",
    "import random"
   ]
  },
  {
   "cell_type": "code",
   "execution_count": 2,
   "id": "fb336b82",
   "metadata": {},
   "outputs": [
    {
     "data": {
      "text/plain": [
       "{'HighBP': 0.0,\n",
       " 'HighChol': 1.0,\n",
       " 'CholCheck': 1.0,\n",
       " 'BMI': 29.0,\n",
       " 'Smoker': 1.0,\n",
       " 'Stroke': 0.0,\n",
       " 'HeartDiseaseorAttack': 0.0,\n",
       " 'PhysActivity': 1.0,\n",
       " 'Fruits': 1.0,\n",
       " 'Veggies': 0.0,\n",
       " 'HvyAlcoholConsump': 0.0,\n",
       " 'AnyHealthcare': 1.0,\n",
       " 'NoDocbcCost': 0.0,\n",
       " 'GenHlth': 1.0,\n",
       " 'MentHlth': 0.0,\n",
       " 'PhysHlth': 0.0,\n",
       " 'DiffWalk': 1.0,\n",
       " 'Sex': 0.0,\n",
       " 'Age': 10.0,\n",
       " 'Education': 5.0,\n",
       " 'Income': 1.0}"
      ]
     },
     "execution_count": 2,
     "metadata": {},
     "output_type": "execute_result"
    }
   ],
   "source": [
    "df = pd.read_csv(\"data/data.csv\")\n",
    "df.pop(\"Diabetes_binary\")\n",
    "\n",
    "columns = df.columns.values\n",
    "rand = random.randint(11, len(columns))\n",
    "\n",
    "features = df.values[rand]\n",
    "\n",
    "inputs = {key: value for key, value in zip(columns, features)}\n",
    "inputs"
   ]
  },
  {
   "cell_type": "code",
   "execution_count": 3,
   "id": "605ba5b7",
   "metadata": {},
   "outputs": [],
   "source": [
    "def float_feature(value):\n",
    "    return tf.train.Feature(\n",
    "        float_list=tf.train.FloatList(\n",
    "            value=[value]\n",
    "        ),\n",
    "    )"
   ]
  },
  {
   "cell_type": "code",
   "execution_count": 4,
   "id": "c3e5712c",
   "metadata": {},
   "outputs": [],
   "source": [
    "def prepare_json(inputs: dict):\n",
    "    feature_spec = dict()\n",
    "    \n",
    "    for keys, values in inputs.items():\n",
    "        feature_spec[keys] = float_feature(values)\n",
    "            \n",
    "    example = tf.train.Example(\n",
    "        features=tf.train.Features(feature=feature_spec)\n",
    "    ).SerializeToString()\n",
    "        \n",
    "    result = [\n",
    "        {\n",
    "            \"examples\": {\n",
    "                \"b64\": base64.b64encode(example).decode()\n",
    "            }\n",
    "        }\n",
    "    ]\n",
    "    \n",
    "    return json.dumps({\n",
    "        \"signature_name\": \"serving_default\",\n",
    "        \"instances\": result,\n",
    "    })"
   ]
  },
  {
   "cell_type": "code",
   "execution_count": 5,
   "id": "4a035b86",
   "metadata": {},
   "outputs": [],
   "source": [
    "def make_predictions(inputs):\n",
    "    json_data = prepare_json(inputs)\n",
    "    \n",
    "    endpoint = \"https://diabetes-pipeline.up.railway.app/v1/models/diabetes-pipeline:predict\"\n",
    "    response = requests.post(endpoint, data=json_data)\n",
    "\n",
    "    prediction = response.json()[\"predictions\"][0][0]\n",
    "    \n",
    "    if prediction < 0.6:\n",
    "        return \"No Diabetes\"\n",
    "    else:\n",
    "        return \"Diabetes\""
   ]
  },
  {
   "cell_type": "code",
   "execution_count": 6,
   "id": "46a1ca8d",
   "metadata": {},
   "outputs": [
    {
     "data": {
      "text/plain": [
       "'No Diabetes'"
      ]
     },
     "execution_count": 6,
     "metadata": {},
     "output_type": "execute_result"
    }
   ],
   "source": [
    "make_predictions(inputs)"
   ]
  }
 ],
 "metadata": {
  "kernelspec": {
   "display_name": "Python 3 (ipykernel)",
   "language": "python",
   "name": "python3"
  },
  "language_info": {
   "codemirror_mode": {
    "name": "ipython",
    "version": 3
   },
   "file_extension": ".py",
   "mimetype": "text/x-python",
   "name": "python",
   "nbconvert_exporter": "python",
   "pygments_lexer": "ipython3",
   "version": "3.8.0"
  }
 },
 "nbformat": 4,
 "nbformat_minor": 5
}
