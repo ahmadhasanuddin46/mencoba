{
 "cells": [
  {
   "cell_type": "code",
   "execution_count": 354,
   "metadata": {},
   "outputs": [],
   "source": [
    "import pandas as pd\n",
    "import requests\n",
    "import json\n",
    "import base64"
   ]
  },
  {
   "cell_type": "code",
   "execution_count": 355,
   "metadata": {},
   "outputs": [
    {
     "data": {
      "text/plain": [
       "{'gender': 'Female',\n",
       " 'age': 53.0,\n",
       " 'hypertension': 0,\n",
       " 'heart_disease': 0,\n",
       " 'smoking_history': 'former',\n",
       " 'bmi': 27.32,\n",
       " 'HbA1c_level': 7.0,\n",
       " 'blood_glucose_level': 159}"
      ]
     },
     "execution_count": 355,
     "metadata": {},
     "output_type": "execute_result"
    }
   ],
   "source": [
    "data = pd.read_csv('data/diabetes_prediction_dataset.csv')\n",
    "inputs = data.iloc[53, :8].to_dict()\n",
    "inputs"
   ]
  },
  {
   "cell_type": "code",
   "execution_count": 356,
   "metadata": {},
   "outputs": [
    {
     "data": {
      "text/plain": [
       "gender                 Female\n",
       "age                      53.0\n",
       "hypertension                0\n",
       "heart_disease               0\n",
       "smoking_history        former\n",
       "bmi                     27.32\n",
       "HbA1c_level               7.0\n",
       "blood_glucose_level       159\n",
       "diabetes                    1\n",
       "Name: 53, dtype: object"
      ]
     },
     "execution_count": 356,
     "metadata": {},
     "output_type": "execute_result"
    }
   ],
   "source": [
    "data.iloc[53, :9]"
   ]
  },
  {
   "cell_type": "code",
   "execution_count": null,
   "metadata": {},
   "outputs": [
    {
     "name": "stdout",
     "output_type": "stream",
     "text": [
      "Diabetes\n"
     ]
    }
   ],
   "source": [
    "def prepare_payload(input_data: dict) -> str:\n",
    "    \"\"\"\n",
    "    Convert input data into a JSON payload compatible with TensorFlow Serving.\n",
    "\n",
    "    Args:\n",
    "        input_data (dict): Input features as a dictionary.\n",
    "\n",
    "    Returns:\n",
    "        str: JSON payload ready for API request.\n",
    "    \"\"\"\n",
    "    features = {}\n",
    "    for key, value in input_data.items():\n",
    "        if isinstance(value, float):\n",
    "            features[key] = tf.train.Feature(float_list=tf.train.FloatList(value=[value]))\n",
    "        elif isinstance(value, int):\n",
    "            features[key] = tf.train.Feature(int64_list=tf.train.Int64List(value=[value]))\n",
    "        elif isinstance(value, str):\n",
    "            features[key] = tf.train.Feature(bytes_list=tf.train.BytesList(value=[value.encode('utf-8')]))\n",
    "    \n",
    "    serialized_example = tf.train.Example(\n",
    "        features=tf.train.Features(feature=features)\n",
    "    ).SerializeToString()\n",
    "    \n",
    "    base64_example = base64.b64encode(serialized_example).decode('utf-8')\n",
    "    \n",
    "    payload = {\n",
    "        \"signature_name\": \"serving_default\",\n",
    "        \"instances\": [\n",
    "            {\"examples\": {\"b64\": base64_example}}\n",
    "        ]\n",
    "    }\n",
    "    \n",
    "    return json.dumps(payload)\n",
    "\n",
    "def send_prediction_request(endpoint: str, payload: str) -> str:\n",
    "    \"\"\"\n",
    "    Send the prepared payload to the TensorFlow Serving model endpoint.\n",
    "\n",
    "    Args:\n",
    "        endpoint (str): URL of the API endpoint.\n",
    "        payload (str): JSON payload.\n",
    "\n",
    "    Returns:\n",
    "        str: Prediction result.\n",
    "    \"\"\"\n",
    "    try:\n",
    "        response = requests.post(endpoint, data=payload, headers={\"Content-Type\": \"application/json\"})\n",
    "        response.raise_for_status()  # Raise an exception for HTTP errors\n",
    "        predictions = response.json().get(\"predictions\")\n",
    "        \n",
    "        if predictions:\n",
    "            prediction_score = predictions[0][0]\n",
    "            return \"Diabetes\" if prediction_score >= 0.5 else \"No diabetes\"\n",
    "        else:\n",
    "            return \"Error: No predictions in response.\"\n",
    "    except requests.RequestException as e:\n",
    "        return f\"Error during request: {str(e)}\"\n",
    "\n",
    "# Example usage\n",
    "input_features = {\n",
    "    \"Pregnancies\": 2,\n",
    "    \"Glucose\": 120.0,\n",
    "    \"BloodPressure\": 80,\n",
    "    \"SkinThickness\": 25,\n",
    "    \"Insulin\": 150.0,\n",
    "    \"BMI\": 24.5,\n",
    "    \"DiabetesPedigreeFunction\": 0.5,\n",
    "    \"Age\": 30\n",
    "}\n",
    "\n",
    "# Prepare payload and endpoint\n",
    "json_payload = prepare_payload(input_features)\n",
    "api_endpoint = \"https://streamlitbaru1-production.up.railway.app/v1/models/diabetes-classification-model:predict\"\n",
    "\n",
    "# Get prediction\n",
    "result = send_prediction_request(api_endpoint, json_payload)\n",
    "print(result)"
   ]
  }
 ],
 "metadata": {
  "kernelspec": {
   "display_name": "base",
   "language": "python",
   "name": "python3"
  },
  "language_info": {
   "codemirror_mode": {
    "name": "ipython",
    "version": 3
   },
   "file_extension": ".py",
   "mimetype": "text/x-python",
   "name": "python",
   "nbconvert_exporter": "python",
   "pygments_lexer": "ipython3",
   "version": "3.9.12"
  },
  "orig_nbformat": 4
 },
 "nbformat": 4,
 "nbformat_minor": 2
}
